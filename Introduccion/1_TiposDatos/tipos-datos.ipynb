{
  "cells": [
    {
      "cell_type": "markdown",
      "metadata": {
        "id": "yL4aPgeY3W0q"
      },
      "source": [
        "<a href=\"https://colab.research.google.com/github/institutohumai/cursos-python/blob/master/Introduccion/1_TiposDatos/tipos-datos.ipynb\"> <img src='https://colab.research.google.com/assets/colab-badge.svg' /> </a>\n",
        "<div align=\"center\"> Recordá abrir en una nueva pestaña </div>\n"
      ]
    },
    {
      "cell_type": "code",
      "metadata": {
        "hidePrompt": false,
        "id": "9al6coO99zcc"
      },
      "source": [
        "# Introducción a la programación con Python"
      ],
      "execution_count": null,
      "outputs": []
    },
    {
      "cell_type": "markdown",
      "metadata": {
        "id": "wHOuR3JL3W0u"
      },
      "source": [
        "<h1 id=\"tocheading\">Tabla de Contenidos</h1>\n",
        "<div id=\"toc\"></div>"
      ]
    },
    {
      "cell_type": "markdown",
      "metadata": {
        "id": "03P-ebJF3W0v"
      },
      "source": [
        "I. Introducción a la programación con Python\n",
        "\n",
        "II. Tabla de Contenidos\n",
        "\n",
        "    I. Python\n",
        "\n",
        "III. IDEs\n",
        "\n",
        "        I. VS Code\n",
        "        II. Pycharm\n",
        "        III. Spyder\n",
        "\n",
        "IV. Hola Jupyter!\n",
        "\n",
        "V. Declarando variables\n",
        "\n",
        "    I. Numéricos\n",
        "    II. Operaciones numéricas - Divisiones\n",
        "    III. Booleanos\n",
        "        I. Operaciones lógicas\n",
        "\n",
        "VI. Ejercicios\n",
        "\n",
        "    I. Strings\n",
        "            I. Ejercicios\n",
        "    II. Listas\n",
        "        I. Indexing y slicing en listas\n",
        "        II. Otras operaciones y métodos\n",
        "    III. Diccionarios\n",
        "    IV. Condicionales\n",
        "    V. Bucles o Loops\n",
        "        I. For loop\n",
        "        II. While loop\n",
        "    VI. Recursos y tips\n",
        "    VII. Tips en la práctica"
      ]
    },
    {
      "cell_type": "markdown",
      "metadata": {
        "hidePrompt": true,
        "id": "0L4-Bq2o3W0w"
      },
      "source": [
        "## Python\n",
        "\n",
        "- Elegante, sencillo\n",
        "- Comunidad y accesibilidad\n",
        "- Desarrollos de estado del arte\n",
        "- Flexibilidad \"full stack\"\n",
        "- Multi-paradigma\n"
      ]
    },
    {
      "cell_type": "markdown",
      "metadata": {
        "id": "b7EzJ93E3W0w"
      },
      "source": [
        "# IDEs"
      ]
    },
    {
      "cell_type": "markdown",
      "metadata": {
        "id": "7n5i_PWQ3W0x"
      },
      "source": [
        "### VS Code"
      ]
    },
    {
      "cell_type": "markdown",
      "metadata": {
        "id": "i8vfl0Rg3W0x"
      },
      "source": [
        "<img src='https://datasets-humai.s3.amazonaws.com/images/IDE.png'></img>"
      ]
    },
    {
      "cell_type": "markdown",
      "metadata": {
        "id": "1NqSyGkm3W0y"
      },
      "source": [
        "### Pycharm"
      ]
    },
    {
      "cell_type": "markdown",
      "metadata": {
        "id": "CpBMbAV03W0y"
      },
      "source": [
        "<img src='https://datasets-humai.s3.amazonaws.com/images/Pycharm.png'></img>"
      ]
    },
    {
      "cell_type": "markdown",
      "metadata": {
        "id": "W8eQK0vs3W0y"
      },
      "source": [
        "### Spyder"
      ]
    },
    {
      "cell_type": "markdown",
      "metadata": {
        "id": "RnlDU6kV3W0z"
      },
      "source": [
        "<img src='https://datasets-humai.s3.amazonaws.com/images/spyder.png'></img>"
      ]
    },
    {
      "cell_type": "markdown",
      "metadata": {
        "id": "zz37KJbi7Adx"
      },
      "source": [
        "# Hola Jupyter!\n",
        "\n",
        "En esta _notebook_ conoceremos el entorno Jupyter (o Google Colaboratory, una versión online gratuita), interfaz incluida en la instalación de Python ampliamente usada para Data Science llamada <a href=\"https://www.anaconda.com/products/individual\"/> Anaconda </a>. Para seguir el curso offline, luego de descargar e instalar Anaconda, si usan Windows deberán buscar el programa en su computadora y ejecutar Jupyter.\n",
        "\n",
        "Si están en una distribución de linux o Mac pueden ejecutar en la terminal:\n",
        "\n",
        "> jupyter notebook\n",
        "\n",
        "Cada una de estas _celdas_ funciona como un bloque donde podemos escribir texto plano, Latex, HTML, además de ejecutar código Python, R, bash y otros. \n",
        "\n",
        "$$\\bar{x} = \\frac{1}{n} \\sum_{i=1}^n x_i$$"
      ]
    },
    {
      "cell_type": "markdown",
      "metadata": {
        "id": "AcoLjYP-NWpd"
      },
      "source": [
        "# Declarando variables <a name=\"section-2\"></a>"
      ]
    },
    {
      "cell_type": "markdown",
      "metadata": {
        "id": "oFtrilzdZHCG"
      },
      "source": [
        "Existen distintos tipos de variables:\n",
        "- int: entero\n",
        "- float: punto flotante\n",
        "- string: cadena de caracteres\n",
        "- bool: booleano, 0, 1, True o False\n",
        "\n",
        "Y estructuras de datos, como:\n",
        "  - list: lista de elementos (de cualquier tipo, incluida otra lista)\n",
        "  - dict: \"diccionario\", conjunto de pares llave:valor\n",
        "  \n",
        "Veamos un primer ejemplo"
      ]
    },
    {
      "cell_type": "code",
      "execution_count": null,
      "metadata": {
        "id": "5uaaWTl23W00"
      },
      "outputs": [],
      "source": [
        "primera_variable = 'Hola mundo!'\n",
        "\n",
        "print(primera_variable)"
      ]
    },
    {
      "cell_type": "markdown",
      "metadata": {
        "id": "t5vMf-7O3W00"
      },
      "source": [
        "Declaramos una variable llamada *primera_variable* asignándole el valor de \"Hola mundo!\". La **función print** toma entre paréntesis esa variable y muestra el valor en pantalla. "
      ]
    },
    {
      "cell_type": "markdown",
      "metadata": {
        "id": "PpiDe94O3W00"
      },
      "source": [
        "En Jupyter la última línea de una celda se imprime al ejecutar..."
      ]
    },
    {
      "cell_type": "code",
      "execution_count": null,
      "metadata": {
        "id": "ZbjGSG_I3W00"
      },
      "outputs": [],
      "source": [
        "primera_variable"
      ]
    },
    {
      "cell_type": "markdown",
      "metadata": {
        "id": "NrPC73s73W00"
      },
      "source": [
        "## Numéricos"
      ]
    },
    {
      "cell_type": "markdown",
      "metadata": {
        "id": "YQ-v8k9c3W00"
      },
      "source": [
        "Declaramos dos variables de tipo numérico:"
      ]
    },
    {
      "cell_type": "code",
      "execution_count": null,
      "metadata": {
        "hidePrompt": true,
        "id": "mfxF76C4ZGJK"
      },
      "outputs": [],
      "source": [
        "x = 5\n",
        "y = 17"
      ]
    },
    {
      "cell_type": "markdown",
      "metadata": {
        "id": "2wj3NOFX3W01"
      },
      "source": [
        "Podemos hacer las operaciones numéricas usuales:"
      ]
    },
    {
      "cell_type": "code",
      "execution_count": null,
      "metadata": {
        "hidePrompt": true,
        "id": "SJ6ZiKqn3W01"
      },
      "outputs": [],
      "source": [
        "print(x+y) # suma\n",
        "print(x*2) # multiplicacion\n",
        "print(x**(1/2)) # elevado a "
      ]
    },
    {
      "cell_type": "markdown",
      "metadata": {
        "id": "wglxDIms3W01"
      },
      "source": [
        "## Operaciones numéricas - Divisiones"
      ]
    },
    {
      "cell_type": "markdown",
      "metadata": {
        "id": "nR9MqIXW3W01"
      },
      "source": [
        "Devuelve la división:"
      ]
    },
    {
      "cell_type": "code",
      "execution_count": null,
      "metadata": {
        "id": "D8Q1sPsg3W01"
      },
      "outputs": [],
      "source": [
        "print(y / x)"
      ]
    },
    {
      "cell_type": "markdown",
      "metadata": {
        "id": "BY3PWPMV3W01"
      },
      "source": [
        "Devuelve la parte entera de la división:"
      ]
    },
    {
      "cell_type": "code",
      "execution_count": null,
      "metadata": {
        "id": "qOjqzZAJ3W01"
      },
      "outputs": [],
      "source": [
        "print(y // x) "
      ]
    },
    {
      "cell_type": "markdown",
      "metadata": {
        "id": "UMLasnZj3W01"
      },
      "source": [
        "Devuelve el resto:"
      ]
    },
    {
      "cell_type": "code",
      "execution_count": null,
      "metadata": {
        "id": "_XE3nCJg3W01"
      },
      "outputs": [],
      "source": [
        "print(y % x)"
      ]
    },
    {
      "cell_type": "markdown",
      "metadata": {
        "id": "_yX909m43W02"
      },
      "source": [
        "Otros ejemplos:"
      ]
    },
    {
      "cell_type": "code",
      "execution_count": null,
      "metadata": {
        "hidePrompt": true,
        "id": "hL947CzI3W02"
      },
      "outputs": [],
      "source": [
        "un_string = 'variable de ejemplo'\n",
        "un_bool = True"
      ]
    },
    {
      "cell_type": "markdown",
      "metadata": {
        "id": "1gpHJ1a43W02"
      },
      "source": [
        "La **función** _type_ recibe de **argumento** una **variable** y **devuelve** su tipo"
      ]
    },
    {
      "cell_type": "code",
      "execution_count": null,
      "metadata": {
        "id": "FB2YDjZR3W02"
      },
      "outputs": [],
      "source": [
        "type(x), type(y)"
      ]
    },
    {
      "cell_type": "markdown",
      "metadata": {
        "id": "IKJKHJer3W02"
      },
      "source": [
        "Intentemos la siguiente suma..."
      ]
    },
    {
      "cell_type": "code",
      "execution_count": 1,
      "metadata": {
        "id": "8C5Hw0-h3W02",
        "outputId": "f1ac4502-7376-4455-fc70-62b39c7e1fd5",
        "colab": {
          "base_uri": "https://localhost:8080/",
          "height": 165
        }
      },
      "outputs": [
        {
          "output_type": "error",
          "ename": "TypeError",
          "evalue": "ignored",
          "traceback": [
            "\u001b[0;31m---------------------------------------------------------------------------\u001b[0m",
            "\u001b[0;31mTypeError\u001b[0m                                 Traceback (most recent call last)",
            "\u001b[0;32m<ipython-input-1-5f9d44cb0bd4>\u001b[0m in \u001b[0;36m<module>\u001b[0;34m()\u001b[0m\n\u001b[0;32m----> 1\u001b[0;31m \u001b[0;36m5\u001b[0m \u001b[0;34m+\u001b[0m \u001b[0;34m\"10\"\u001b[0m\u001b[0;34m\u001b[0m\u001b[0;34m\u001b[0m\u001b[0m\n\u001b[0m",
            "\u001b[0;31mTypeError\u001b[0m: unsupported operand type(s) for +: 'int' and 'str'"
          ]
        }
      ],
      "source": [
        "5 + \"10\""
      ]
    },
    {
      "cell_type": "markdown",
      "metadata": {
        "id": "7EXt0UWn3W02"
      },
      "source": [
        "¿Qué paso?"
      ]
    },
    {
      "cell_type": "markdown",
      "metadata": {
        "id": "UFjhlylX3W02"
      },
      "source": [
        "Si **convertimos** el string \"10\" a tipo int"
      ]
    },
    {
      "cell_type": "code",
      "execution_count": 2,
      "metadata": {
        "id": "QB2uWWHS3W02",
        "outputId": "33fa4ac0-69f5-4823-8333-50e920f049c3",
        "colab": {
          "base_uri": "https://localhost:8080/"
        }
      },
      "outputs": [
        {
          "output_type": "execute_result",
          "data": {
            "text/plain": [
              "15"
            ]
          },
          "metadata": {},
          "execution_count": 2
        }
      ],
      "source": [
        "5 + int('10')"
      ]
    },
    {
      "cell_type": "markdown",
      "metadata": {
        "id": "F6qRI2Iz3W03"
      },
      "source": [
        "Cada tipo de variable responde a ciertos **métodos**. Veamos las operaciones lógicas, que utilizan **booleanos**"
      ]
    },
    {
      "cell_type": "markdown",
      "metadata": {
        "id": "wmvw7phN3W03"
      },
      "source": [
        "## Booleanos"
      ]
    },
    {
      "cell_type": "markdown",
      "metadata": {
        "id": "GDJ8Y9Xt3W03"
      },
      "source": [
        "### Operaciones lógicas"
      ]
    },
    {
      "cell_type": "code",
      "execution_count": 3,
      "metadata": {
        "id": "djkVvOs03W03",
        "outputId": "63f61436-5751-44bf-f847-6f4dcdd912a2",
        "colab": {
          "base_uri": "https://localhost:8080/"
        }
      },
      "outputs": [
        {
          "output_type": "stream",
          "name": "stdout",
          "text": [
            "True\n"
          ]
        }
      ],
      "source": [
        "print(10 >= 9)"
      ]
    },
    {
      "cell_type": "code",
      "execution_count": 4,
      "metadata": {
        "id": "7pC4P1Hv3W03",
        "outputId": "3e9cf750-9144-466e-816a-91b40657126d",
        "colab": {
          "base_uri": "https://localhost:8080/"
        }
      },
      "outputs": [
        {
          "output_type": "stream",
          "name": "stdout",
          "text": [
            "True\n",
            "False\n"
          ]
        }
      ],
      "source": [
        "print(\"palabra\" == \"palabra\")\n",
        "print(\"otras palabras\" != \"otras palabras\") "
      ]
    },
    {
      "cell_type": "code",
      "execution_count": 5,
      "metadata": {
        "id": "kxFHceZA3W03",
        "outputId": "e427275c-1a88-4812-a1f8-c35425b1244e",
        "colab": {
          "base_uri": "https://localhost:8080/"
        }
      },
      "outputs": [
        {
          "output_type": "stream",
          "name": "stdout",
          "text": [
            "True\n",
            "True\n"
          ]
        }
      ],
      "source": [
        "print(\"test\" in \"testing\")\n",
        "\n",
        "a = 'testing'\n",
        "\n",
        "print('test' in a)"
      ]
    },
    {
      "cell_type": "markdown",
      "metadata": {
        "id": "ur0w0Fj53W03"
      },
      "source": [
        "Los operadores disponibles son: \n",
        "\n",
        "    Relacionales:\n",
        "    - >= , <=, <, > : Mayor o igual, menor o igual, mayor o menor\n",
        "    - != , == : Distinto, Igual\n",
        "    - in : Contenido por \n",
        "    Lógicos:\n",
        "    - not o ~ : Negación\n",
        "    - and o & : Ambas verdaderas\n",
        "    - or o | : Una u otra es verdadera\n",
        "    \n",
        "Como booleanos, se pueden utilizar tanto 0 y 1 como True y False."
      ]
    },
    {
      "cell_type": "markdown",
      "metadata": {
        "id": "kHjJbVh23W03"
      },
      "source": [
        "# Ejercicios <a name=\"section-3\"></a>\n",
        "\n",
        "\n",
        "1- Definan a = 5, b = 7 y c = 8\n",
        "\n",
        "Prueben las siguientes operaciones booleanas:\n",
        "\n",
        "2- a > b\n",
        "\n",
        "3- a < b\n",
        "\n",
        "4- a + b < c\n",
        "\n",
        "5- (a + b > c) | (a + b < c) --> a + b o es mayor a c o es menor\n",
        "\n",
        "6- (a + b > c) & (a + b < c) --> a + b es mayor a c y es menor a c"
      ]
    },
    {
      "cell_type": "markdown",
      "metadata": {
        "id": "LqzSft-o3W03"
      },
      "source": [
        "## Strings <a name=\"section-4\"></a>"
      ]
    },
    {
      "cell_type": "code",
      "execution_count": null,
      "metadata": {
        "id": "eBWpZnEt3W03"
      },
      "outputs": [],
      "source": [
        "\"dos strings se pueden \" + \"sumar\""
      ]
    },
    {
      "cell_type": "markdown",
      "metadata": {
        "id": "BYFg7kmg3W04"
      },
      "source": [
        "Podemos acceder a ellos mediante **índices**. Los mismos funcionan para cualquier **iterable**, que es un objeto con muchos elementos que son accesibles secuencialmente. Podemos usar los índices para acceder a una posición determinada, pasándola entre corchetes [posición]. Es IMPORTANTE mencionar que en Python la primera posición tiene el índice 0 (y no 1)."
      ]
    },
    {
      "cell_type": "code",
      "execution_count": null,
      "metadata": {
        "id": "s_Eyi2Zs3W04"
      },
      "outputs": [],
      "source": [
        "texto = \"programación en python\""
      ]
    },
    {
      "cell_type": "code",
      "execution_count": null,
      "metadata": {
        "id": "NWR22sB43W04"
      },
      "outputs": [],
      "source": [
        "texto[0]"
      ]
    },
    {
      "cell_type": "markdown",
      "metadata": {
        "id": "l6fgP4dk3W04"
      },
      "source": [
        "También podemos usar los índices para traer más de un elemento al mismo tiempo, usando el **slicing**. El slicing lleva tres parámetros: comienzo (start), final (stop) e intervalo o paso (step).\n",
        "\n",
        "- El parámetro comienzo (start) indica la primera posición incluida en la selección, por default es 0.\n",
        "\n",
        "- El parámetro final (stop) es la primera posición que NO va a estar incluída, por default se incluyen todos los elementos. \n",
        "\n",
        "- El parámetro intervalo o paso (step), es optativo e indica el tamaño del paso entre seleccionar un elemento y el siguiente, por default el paso es 1. El paso también puede ser negativo, en este caso contamos desde el final hacia el comienzo, esto es muy útil para dar vuelta los strings...\n",
        "\n",
        "    \n",
        "    [comienzo : final : intervalo] (en inglés es [start : stop : step] )\n",
        "    \n",
        "    \n",
        "El intervalo que se recibe es semi-abierto (indice_primero, indice_segundo], es decir se incluye el primero y no el segundo valor. Se admiten números negativos, que contabilizan desde el final."
      ]
    },
    {
      "cell_type": "code",
      "execution_count": null,
      "metadata": {
        "id": "C20Ajga33W04"
      },
      "outputs": [],
      "source": [
        "texto[:]"
      ]
    },
    {
      "cell_type": "code",
      "execution_count": null,
      "metadata": {
        "id": "7ANQrhN33W04"
      },
      "outputs": [],
      "source": [
        "texto[:1]"
      ]
    },
    {
      "cell_type": "code",
      "execution_count": null,
      "metadata": {
        "id": "xCN2ClJL3W04"
      },
      "outputs": [],
      "source": [
        "texto[1:4]"
      ]
    },
    {
      "cell_type": "code",
      "execution_count": null,
      "metadata": {
        "id": "8hs_sf9l3W04"
      },
      "outputs": [],
      "source": [
        "texto[::-1]"
      ]
    },
    {
      "cell_type": "markdown",
      "metadata": {
        "id": "D4tOfl2S3W04"
      },
      "source": [
        "Ejercicio \n",
        "\n",
        "1- Dado ese string devuelvan únicamente la palabra python usando slicing"
      ]
    },
    {
      "cell_type": "code",
      "execution_count": null,
      "metadata": {
        "id": "ja1Nu3pT3W04"
      },
      "outputs": [],
      "source": [
        "texto"
      ]
    },
    {
      "cell_type": "code",
      "execution_count": null,
      "metadata": {
        "id": "KWTOIurZ3W05"
      },
      "outputs": [],
      "source": [
        "texto[16:23]"
      ]
    },
    {
      "cell_type": "code",
      "execution_count": null,
      "metadata": {
        "id": "KU-7egcL3W05"
      },
      "outputs": [],
      "source": [
        "texto[16:23]"
      ]
    },
    {
      "cell_type": "code",
      "execution_count": null,
      "metadata": {
        "id": "dRR79rQN3W05"
      },
      "outputs": [],
      "source": [
        "texto[-6:]"
      ]
    },
    {
      "cell_type": "code",
      "execution_count": null,
      "metadata": {
        "id": "inAoV5BA3W05"
      },
      "outputs": [],
      "source": [
        "texto[-6:23:1]"
      ]
    },
    {
      "cell_type": "markdown",
      "metadata": {
        "id": "14mLKGqi3W05"
      },
      "source": [
        "Veamos algunos otros métodos de los strings"
      ]
    },
    {
      "cell_type": "code",
      "execution_count": null,
      "metadata": {
        "id": "KlCSMYSN3W05"
      },
      "outputs": [],
      "source": [
        "texto.upper()"
      ]
    },
    {
      "cell_type": "code",
      "execution_count": null,
      "metadata": {
        "id": "hmifh5ks3W05"
      },
      "outputs": [],
      "source": [
        "texto.title()"
      ]
    },
    {
      "cell_type": "code",
      "execution_count": null,
      "metadata": {
        "id": "t4ojGMM23W05"
      },
      "outputs": [],
      "source": [
        "texto.split() # Devuelve una lista, de ésto vamos a hablar a continuación"
      ]
    },
    {
      "cell_type": "markdown",
      "metadata": {
        "id": "SPpkBzXz3W05"
      },
      "source": [
        "Otras formas de combinar variables y texto..."
      ]
    },
    {
      "cell_type": "markdown",
      "metadata": {
        "id": "LFbrmR2W3W05"
      },
      "source": [
        "Rellenamos un string con **.format(query, modales)**:"
      ]
    },
    {
      "cell_type": "code",
      "execution_count": null,
      "metadata": {
        "id": "cN8rn9z33W05"
      },
      "outputs": [],
      "source": [
        "tema = 'data science'\n",
        "modales = 'por favor'\n",
        "\n",
        "'Dame información de {0} si esta disponible, {1}'.format(tema, modales)"
      ]
    },
    {
      "cell_type": "code",
      "execution_count": null,
      "metadata": {
        "id": "_DSIEacL3W05"
      },
      "outputs": [],
      "source": [
        "#Otra manera\n",
        "print(f'Dame información de {tema.upper()} si esta disponible, {modales}')"
      ]
    },
    {
      "cell_type": "markdown",
      "metadata": {
        "id": "sUBT2Ces3W06"
      },
      "source": [
        "Otros métodos a mencionar son:"
      ]
    },
    {
      "cell_type": "code",
      "execution_count": null,
      "metadata": {
        "id": "vR2Q2LIp3W06"
      },
      "outputs": [],
      "source": [
        "\"1000\".isdigit()"
      ]
    },
    {
      "cell_type": "code",
      "execution_count": null,
      "metadata": {
        "id": "0PCcgZ1D3W06"
      },
      "outputs": [],
      "source": [
        "texto.replace(' ', '...')"
      ]
    },
    {
      "cell_type": "code",
      "execution_count": null,
      "metadata": {
        "id": "qu52cYFs3W06"
      },
      "outputs": [],
      "source": [
        "\"   quitando espacios  \".strip()"
      ]
    },
    {
      "cell_type": "code",
      "execution_count": null,
      "metadata": {
        "id": "UN7qN-ur3W06"
      },
      "outputs": [],
      "source": [
        "texto = \"Me gusta el 37\" # Piso el contenido de la variable para hacer otras pruebas\n",
        "texto.isalpha()"
      ]
    },
    {
      "cell_type": "code",
      "execution_count": null,
      "metadata": {
        "id": "1RTODRug3W06"
      },
      "outputs": [],
      "source": [
        "texto = \"Me\" # Piso el contenido de la variable\n",
        "texto.isalpha()"
      ]
    },
    {
      "cell_type": "markdown",
      "metadata": {
        "id": "QJLhJyor3W06"
      },
      "source": [
        "#### Ejercicios <a name=\"section-5\"></a>\n",
        "\n",
        "1- Concatenar los string \"hola\" y \"qué tal\", separando ambos strings con un espacio (Tip: un espacio es: \" \")\n",
        "\n",
        "2- Guardar el resultado anterior en una variable y pasar el texto a mayúsculas."
      ]
    },
    {
      "cell_type": "code",
      "execution_count": null,
      "metadata": {
        "id": "DXx5d0cg3W06"
      },
      "outputs": [],
      "source": [
        "# Ejercicio 1"
      ]
    },
    {
      "cell_type": "code",
      "execution_count": null,
      "metadata": {
        "id": "ZEu1YrSj3W06"
      },
      "outputs": [],
      "source": [
        "# Ejercicio 2"
      ]
    },
    {
      "cell_type": "markdown",
      "metadata": {
        "id": "jaKOp_zf3W06"
      },
      "source": [
        "## Listas <a name=\"section-6\"></a>\n",
        "\n",
        "Las listas son un conjunto de elementos ordenados. Estos elementos pueden ser de cualquier tipo, incluyendo otras listas. Veamos algunas operaciones con ellas."
      ]
    },
    {
      "cell_type": "code",
      "execution_count": null,
      "metadata": {
        "scrolled": true,
        "id": "qvFGLc2f3W06"
      },
      "outputs": [],
      "source": [
        "amigos = ['Mateo', 'Nico', 'Claudia', 'Ernestina', 'Paola']"
      ]
    },
    {
      "cell_type": "markdown",
      "metadata": {
        "id": "5ettlyM63W06"
      },
      "source": [
        "### Indexing y slicing en listas"
      ]
    },
    {
      "cell_type": "markdown",
      "metadata": {
        "id": "KI3baaeZ3W07"
      },
      "source": [
        "De la misma forma que con los strings en el contexto de la listas generalmente hablamos de **indexación** o acceso por índice a la acción de encontrar un valor según su posición en la lista. \n",
        "\n",
        "Importantísimo (sí, ¡una vez más!): En Python el primer elemento se indexa con el valor 0. Es decir, si queremos el primer valor de una lista tenemos que llamar a la posición 0."
      ]
    },
    {
      "cell_type": "code",
      "execution_count": null,
      "metadata": {
        "id": "n8cRo86W3W07"
      },
      "outputs": [],
      "source": [
        "amigos[0]"
      ]
    },
    {
      "cell_type": "markdown",
      "metadata": {
        "id": "jWbntWBP3W07"
      },
      "source": [
        "Además, el último elemento se indexa como -1, el siguiente -2 y así sucesivamente. Entonces para acceder al último elemento:"
      ]
    },
    {
      "cell_type": "code",
      "execution_count": null,
      "metadata": {
        "id": "eJUPq3vg3W07"
      },
      "outputs": [],
      "source": [
        "amigos[-1]"
      ]
    },
    {
      "cell_type": "markdown",
      "metadata": {
        "id": "442faibO3W07"
      },
      "source": [
        "Además, podemos acceder a varios elementos en simultáneo, usando el **slicing** de la misma manera que con strings.\n",
        "\n",
        "El slicing aplicado a una lista nos devuelve una **lista**.\n",
        "\n",
        "Veamos algunos ejemplos:"
      ]
    },
    {
      "cell_type": "code",
      "execution_count": null,
      "metadata": {
        "id": "m4cv4dwD3W07"
      },
      "outputs": [],
      "source": [
        "amigos[:] # arranco en 0 hasta el final, con el paso default (1)"
      ]
    },
    {
      "cell_type": "code",
      "execution_count": null,
      "metadata": {
        "id": "8AFYzMwI3W07"
      },
      "outputs": [],
      "source": [
        "amigos[:1] # arranco en 0 y el primero sin incluir es el 1, con el paso default (1)"
      ]
    },
    {
      "cell_type": "code",
      "execution_count": null,
      "metadata": {
        "id": "09OmWKhk3W07"
      },
      "outputs": [],
      "source": [
        "amigos[:-1] # excluímos el último elemento"
      ]
    },
    {
      "cell_type": "code",
      "execution_count": null,
      "metadata": {
        "id": "0JbIQ17Y3W07"
      },
      "outputs": [],
      "source": [
        "amigos[::2] # salteamos un elemento a la vez"
      ]
    },
    {
      "cell_type": "markdown",
      "metadata": {
        "id": "M5HI1viE3W07"
      },
      "source": [
        "Ejercicios:\n",
        "\n",
        "1- ¿Es el resultado de amigos[:1] igual al de acceder directamente a la primera posición? \n",
        "\n",
        "2- Recorrer la lista de elementos de atrás para adelante.\n",
        "\n",
        "3- Seleccionar del 3er elemento al 4to elemento."
      ]
    },
    {
      "cell_type": "markdown",
      "metadata": {
        "id": "v0CsAaVz3W07"
      },
      "source": [
        "### Otras operaciones y métodos"
      ]
    },
    {
      "cell_type": "markdown",
      "metadata": {
        "id": "fLA4tPFb3W07"
      },
      "source": [
        "Agregar un nuevo elemento:"
      ]
    },
    {
      "cell_type": "code",
      "execution_count": null,
      "metadata": {
        "id": "J_oH7bSs3W07"
      },
      "outputs": [],
      "source": [
        "amigos.append('Chicharito')\n",
        "print(amigos)\n",
        "\n",
        "amigos = amigos + ['Chicharito']\n",
        "\n",
        "x = 10\n",
        "\n",
        "x = x + 3\n",
        "\n",
        "x"
      ]
    },
    {
      "cell_type": "markdown",
      "metadata": {
        "id": "TcXft2vr3W07"
      },
      "source": [
        "Sumamos otra lista:"
      ]
    },
    {
      "cell_type": "code",
      "execution_count": null,
      "metadata": {
        "id": "B6PP6l7Q3W08"
      },
      "outputs": [],
      "source": [
        "amigos = amigos + ['Pipi', 'Toto']\n",
        "print(amigos) "
      ]
    },
    {
      "cell_type": "markdown",
      "metadata": {
        "id": "cEq3jyit3W08"
      },
      "source": [
        "Unir una lista con un separador dado:"
      ]
    },
    {
      "cell_type": "code",
      "execution_count": null,
      "metadata": {
        "id": "X25PC3_q3W08"
      },
      "outputs": [],
      "source": [
        "ejemplo = ['valor1', 'valor2', 'valor3']\n",
        "';'.join(ejemplo)"
      ]
    },
    {
      "cell_type": "markdown",
      "metadata": {
        "id": "_DbgPFH63W08"
      },
      "source": [
        "El ejercicio 1 se podría haber resuelto usando .join así:"
      ]
    },
    {
      "cell_type": "code",
      "execution_count": null,
      "metadata": {
        "id": "XchgG44P3W08"
      },
      "outputs": [],
      "source": [
        "\" \".join([\"hola\", \"qué tal\"])"
      ]
    },
    {
      "cell_type": "markdown",
      "metadata": {
        "id": "Wcdv6atf3W08"
      },
      "source": [
        "Borrado por valor:"
      ]
    },
    {
      "cell_type": "code",
      "execution_count": null,
      "metadata": {
        "id": "mWMFyk3s3W08"
      },
      "outputs": [],
      "source": [
        "amigos.remove('Mateo')\n",
        "print(amigos)"
      ]
    },
    {
      "cell_type": "markdown",
      "metadata": {
        "id": "jkv6mQ1c3W08"
      },
      "source": [
        "Borrado por índice:"
      ]
    },
    {
      "cell_type": "code",
      "execution_count": null,
      "metadata": {
        "scrolled": true,
        "id": "HV55rvrw3W08"
      },
      "outputs": [],
      "source": [
        "del amigos[0]\n",
        "print(amigos)"
      ]
    },
    {
      "cell_type": "markdown",
      "metadata": {
        "id": "CUwxW4vg3W08"
      },
      "source": [
        "Devuelve un elemento y lo borra de la lista:"
      ]
    },
    {
      "cell_type": "code",
      "execution_count": null,
      "metadata": {
        "id": "NszlbAyQ3W08"
      },
      "outputs": [],
      "source": [
        "valor = amigos.pop(0)"
      ]
    },
    {
      "cell_type": "code",
      "execution_count": null,
      "metadata": {
        "id": "hCdxBLSY3W08"
      },
      "outputs": [],
      "source": [
        "edades = [30, 40, 38, 30, 37]"
      ]
    },
    {
      "cell_type": "markdown",
      "metadata": {
        "id": "Avoqm7iB3W08"
      },
      "source": [
        "Cantidad de apariciones:"
      ]
    },
    {
      "cell_type": "code",
      "execution_count": null,
      "metadata": {
        "id": "n34Ytbzp3W09"
      },
      "outputs": [],
      "source": [
        "print(edades.count(30))"
      ]
    },
    {
      "cell_type": "markdown",
      "metadata": {
        "id": "aZKy6TOK3W09"
      },
      "source": [
        "Largo de la lista:"
      ]
    },
    {
      "cell_type": "code",
      "execution_count": null,
      "metadata": {
        "id": "um2R8nJ13W09"
      },
      "outputs": [],
      "source": [
        "print(len(edades))"
      ]
    },
    {
      "cell_type": "markdown",
      "metadata": {
        "id": "3K96Wod83W09"
      },
      "source": [
        "Ordenar la lista:"
      ]
    },
    {
      "cell_type": "code",
      "execution_count": null,
      "metadata": {
        "id": "hnTJCIwe3W09"
      },
      "outputs": [],
      "source": [
        "sorted(edades)"
      ]
    },
    {
      "cell_type": "markdown",
      "metadata": {
        "id": "QbHxXuWb3W09"
      },
      "source": [
        "Sumar el total:"
      ]
    },
    {
      "cell_type": "code",
      "execution_count": null,
      "metadata": {
        "id": "vcxDBMqU3W09"
      },
      "outputs": [],
      "source": [
        "print(sum(edades))"
      ]
    },
    {
      "cell_type": "markdown",
      "metadata": {
        "id": "mflHBowR3W09"
      },
      "source": [
        "Mínimo:"
      ]
    },
    {
      "cell_type": "code",
      "execution_count": null,
      "metadata": {
        "id": "hYjnleGr3W09"
      },
      "outputs": [],
      "source": [
        "print(min(edades))"
      ]
    },
    {
      "cell_type": "markdown",
      "metadata": {
        "id": "APl-rF6A3W09"
      },
      "source": [
        "Máximo:"
      ]
    },
    {
      "cell_type": "code",
      "execution_count": null,
      "metadata": {
        "id": "FWSrowdF3W09"
      },
      "outputs": [],
      "source": [
        "print(max(edades))"
      ]
    },
    {
      "cell_type": "markdown",
      "metadata": {
        "id": "zIFvmYbB3W09"
      },
      "source": [
        "Ejercicio: <a name=\"section-7\"></a>\n",
        "\n",
        "1- Calcular el promedio de edad de la lista \"edades\"\n"
      ]
    },
    {
      "cell_type": "code",
      "execution_count": null,
      "metadata": {
        "id": "gx35n51R3W0-"
      },
      "outputs": [],
      "source": [
        "# Ejercicio 1"
      ]
    },
    {
      "cell_type": "markdown",
      "metadata": {
        "id": "vWB5loNd3W0-"
      },
      "source": [
        "## Diccionarios <a name=\"section-8\"></a>\n",
        "\n",
        "Los diccionarios consisten en estructuras que contienen pares de una **llave** y un **valor**. Los elementos NO están ordenados, con lo cual no se puede acceder por posición ni slicing.\n",
        "\n",
        "Veamos un ejemplo"
      ]
    },
    {
      "cell_type": "code",
      "execution_count": null,
      "metadata": {
        "id": "H_h-ZOxu3W0-"
      },
      "outputs": [],
      "source": [
        "dnis = {'Herrera':32676585, 'Guzmán':9564787, \n",
        "        'Pérez':5676898, 'Hernández':40565999, \n",
        "        'Abraham':28375814,\n",
        "       \"soy_una_llave\":\"soy_un_valor\"} "
      ]
    },
    {
      "cell_type": "markdown",
      "metadata": {
        "id": "2vlOi56b3W0-"
      },
      "source": [
        "Sin embargo, sí podemos acceder a un elemento por su llave. Accedemos al valor de \"Abraham\""
      ]
    },
    {
      "cell_type": "code",
      "execution_count": null,
      "metadata": {
        "id": "hjxwkMO23W0-"
      },
      "outputs": [],
      "source": [
        "dnis['Abraham'] # noten que se usa la misma notación que con las listas"
      ]
    },
    {
      "cell_type": "markdown",
      "metadata": {
        "id": "7vODFt0o3W0_"
      },
      "source": [
        "¿Qué pasa si tratamos un diccionario como una lista?"
      ]
    },
    {
      "cell_type": "code",
      "execution_count": null,
      "metadata": {
        "id": "nGuibWbb3W0_"
      },
      "outputs": [],
      "source": [
        "dnis[0]"
      ]
    },
    {
      "cell_type": "markdown",
      "metadata": {
        "id": "lA4JUDA43W0_"
      },
      "source": [
        "Tenemos un error, tratemos de interpretarlo: KeyError se refierre a que no existe una llave (Key) a la que se trató de acceder. En este caso la llave que se trató de acceder es 0."
      ]
    },
    {
      "cell_type": "markdown",
      "metadata": {
        "id": "OGbUU42f3W0_"
      },
      "source": [
        "Podemos ver todas las llaves:"
      ]
    },
    {
      "cell_type": "code",
      "execution_count": null,
      "metadata": {
        "id": "Gwo9obHg3W1A"
      },
      "outputs": [],
      "source": [
        "dnis.keys()"
      ]
    },
    {
      "cell_type": "markdown",
      "metadata": {
        "id": "7VNrW7M63W1A"
      },
      "source": [
        "Traer todos los pares de elementos:"
      ]
    },
    {
      "cell_type": "code",
      "execution_count": null,
      "metadata": {
        "id": "DCXbl88o3W1A"
      },
      "outputs": [],
      "source": [
        "dnis.items()"
      ]
    },
    {
      "cell_type": "markdown",
      "metadata": {
        "id": "AEC2Cd0-3W1A"
      },
      "source": [
        "Y utilizar los mismos métodos para borrar y extrar como en las listas:"
      ]
    },
    {
      "cell_type": "code",
      "execution_count": null,
      "metadata": {
        "id": "wJnmFJov3W1A"
      },
      "outputs": [],
      "source": [
        "dnis.pop('Herrera')"
      ]
    },
    {
      "cell_type": "markdown",
      "metadata": {
        "id": "Pz5oHFOm3W1A"
      },
      "source": [
        "Los diccionarios tienen longitud, de la misma forma que las listas y string"
      ]
    },
    {
      "cell_type": "code",
      "execution_count": null,
      "metadata": {
        "id": "GoBLS76k3W1A"
      },
      "outputs": [],
      "source": [
        "len(dnis)"
      ]
    },
    {
      "cell_type": "markdown",
      "metadata": {
        "id": "vOjSBeMY3W1A"
      },
      "source": [
        "## Condicionales <a name=\"section-9\"></a>\n",
        "\n",
        "El condicional tiene la siguiente sintáxis:\n",
        "\n",
        "    if CONDICIÓN:\n",
        "        código1\n",
        "    elif CONDICIÓN2:\n",
        "        código2\n",
        "    else:\n",
        "        código3\n",
        "        \n",
        "Donde la condición es un operador que devuelve un objeto de tipo booleano. La **indentación** del código define qué parte se incluye como condicional.\n",
        "\n",
        "El término \"elif\" viene de \"else if\". La condición sólo se evaluará si la condición del \"if\" no se cumple. "
      ]
    },
    {
      "cell_type": "code",
      "execution_count": null,
      "metadata": {
        "id": "eJ9m1ywF3W1B"
      },
      "outputs": [],
      "source": [
        "precio_dolar = 62\n",
        "\n",
        "if precio_dolar >= 90:\n",
        "    print(\"El dólar se fue por las nubes\")\n",
        "elif (precio_dolar < 90) and (precio_dolar >= 70):\n",
        "    print(\"El dolar subió\")\n",
        "else: \n",
        "    print(\"El dólar es menor a 70\")\n",
        "\n",
        "print(precio_dolar)"
      ]
    },
    {
      "cell_type": "markdown",
      "metadata": {
        "id": "SL__0Vj53W1B"
      },
      "source": [
        "## Bucles o Loops\n",
        "\n",
        "Los bucles son un tipo de sentencia donde se realiza el código contenido repetidamente. Existen dos tipos. En el bucle **for**, se **itera** o recorre un conjunto de elementos actuando por cada uno de ellos. En el bucle **while** se itera hasta que se cumple una condiciónn de corte."
      ]
    },
    {
      "cell_type": "markdown",
      "metadata": {
        "id": "6T3E9IEv3W1B"
      },
      "source": [
        "### For loop"
      ]
    },
    {
      "cell_type": "code",
      "execution_count": null,
      "metadata": {
        "id": "rZLGQX3W3W1B"
      },
      "outputs": [],
      "source": [
        "for n in [1,2,'3']:\n",
        "    print(f'EL tipo es {n*2} {type(n*2)}')"
      ]
    },
    {
      "cell_type": "code",
      "execution_count": null,
      "metadata": {
        "id": "KhhpHLZF3W1B"
      },
      "outputs": [],
      "source": [
        "lista = [1,2,3,4,5]\n",
        "\n",
        "for n in lista:\n",
        "    print(n * 2)"
      ]
    },
    {
      "cell_type": "markdown",
      "metadata": {
        "id": "CJlcPDWy3W1B"
      },
      "source": [
        "También agreguemos la función **range** a nuestro repertorio. La función range consta de tres parámetros importante: start, stop, step. Si pasamos un sólo parámetro, estamos pasando el \"stop\" y tomamos 0 como valor default de \"start\". Del mismo modo que cuando vimos listas, el stop no está incluído y el step por default es 1.\n",
        "\n",
        "Veamos cómo funciona:"
      ]
    },
    {
      "cell_type": "code",
      "execution_count": null,
      "metadata": {
        "id": "cQ_Fwhfo3W1B"
      },
      "outputs": [],
      "source": [
        "for n in range(5):\n",
        "    print(n)"
      ]
    },
    {
      "cell_type": "markdown",
      "metadata": {
        "id": "35BdGiR83W1C"
      },
      "source": [
        "Si pasamos dos parámetros, estamos pasando el start y el stop, el primer valor es el \"start\" y el segundo el \"stop\"."
      ]
    },
    {
      "cell_type": "code",
      "execution_count": null,
      "metadata": {
        "id": "cssctDnC3W1C"
      },
      "outputs": [],
      "source": [
        "for n in range(0,5):\n",
        "    print(n)"
      ]
    },
    {
      "cell_type": "markdown",
      "metadata": {
        "id": "PWtV2MHv3W1C"
      },
      "source": [
        "Noten que el valor de start se incluye y el de stop no:"
      ]
    },
    {
      "cell_type": "code",
      "execution_count": null,
      "metadata": {
        "id": "puc9NXi73W1C"
      },
      "outputs": [],
      "source": [
        "for n in range(1, 6): # esto nos da el mismo resultado que un par de celdas más arriba\n",
        "    print(n * 2)"
      ]
    },
    {
      "cell_type": "markdown",
      "metadata": {
        "id": "-eBG7q_73W1C"
      },
      "source": [
        "Por último, el tercer parámetro es el step..."
      ]
    },
    {
      "cell_type": "markdown",
      "metadata": {
        "id": "qLLOkFxy3W1C"
      },
      "source": [
        "Ejercicios combinando lo visto hasta el momento:\n",
        "\n",
        "1- Imprimir los valores de 1 a 50, salteando de a un valor por vez...\n",
        "\n",
        "2- Dada la siguiente lista: medios = [\"cheques\", \"bonos\", \"acciones\", 1000, \"transferencia\"]. Acceder al 2do elemento, y luego al 3er elemento (de ese 2do elemento) y responder qué devulve.\n",
        "\n",
        "3- De manera similar, ahora accedan al 4to elemento, y luego al 3er elemento de éste, ¿qué ocurre?\n",
        "\n",
        "4- Agreguen una lista vacía al final de esa lista.\n",
        "\n",
        "5- Recorran *medios* (iteren) y si el tipo del elemento es string, hagan un print de su primer elemento, si es int (entero) pásenlo a string y hagan un print de su primer elemento y si no es nada de eso hagan un print que diga \"Es otro tipo\". Tip1: para pasar un elemento a tipo string pueden usar la función str(variable), donde variable es el elemento que quieren transformar. Tip2: para arrancar este ejercicio pueden copiar lo siguiente:"
      ]
    },
    {
      "cell_type": "code",
      "execution_count": null,
      "metadata": {
        "id": "P9uNRogT3W1C"
      },
      "outputs": [],
      "source": [
        "for medio in medios:\n",
        "    pass # pass no hace nada, sólo pasa sin ejecutar nada... Reemplácenlo y completen con las condiciones."
      ]
    },
    {
      "cell_type": "markdown",
      "metadata": {
        "id": "-3pR2tSe3W1D"
      },
      "source": [
        "### While loop"
      ]
    },
    {
      "cell_type": "markdown",
      "metadata": {
        "id": "3F3WvLx83W1D"
      },
      "source": [
        "Los bucles **while** se definen con una condición, y el código contenido se ejecuta mientras la misma evalue como True. Es importante definir correctamente cuándo la condición pasa de True a False, si no lo hacemos podemos dejar corriendo un programa infinitamente sin que corte. Si eso llega a suceder tienen un botón de stop arriba en la notebook."
      ]
    },
    {
      "cell_type": "code",
      "execution_count": null,
      "metadata": {
        "id": "GNXjRnNY3W1D"
      },
      "outputs": [],
      "source": [
        "contador = 0\n",
        "\n",
        "while contador < 20:\n",
        "    contador += 1 # esto equivale a count = count + 1\n",
        "    print(contador)"
      ]
    },
    {
      "cell_type": "markdown",
      "metadata": {
        "id": "I5hZjV3d3W1D"
      },
      "source": [
        "---\n",
        "\n",
        "## Recursos y tips\n",
        "\n",
        "\n",
        "- [Google!](https://google.com)\n",
        "- [StackOverflow](https://stackoverflow.com)\n",
        "- [Google Colab](https://colab.research.google.com)\n",
        "- [Slicing](https://python-reference.readthedocs.io/en/latest/docs/brackets/slicing.html)\n",
        "--- \n",
        "\n",
        "## Tips en la práctica\n",
        "\n",
        "- Ver _docstring_ con Shift + TAB o help()\n",
        "- Leer Errores\n",
        "- Print"
      ]
    },
    {
      "cell_type": "code",
      "execution_count": null,
      "metadata": {
        "id": "b4wHngQp3W1D"
      },
      "outputs": [],
      "source": [
        ""
      ]
    }
  ],
  "metadata": {
    "kernelspec": {
      "display_name": "conda_python3",
      "language": "python",
      "name": "conda_python3"
    },
    "language_info": {
      "codemirror_mode": {
        "name": "ipython",
        "version": 3
      },
      "file_extension": ".py",
      "mimetype": "text/x-python",
      "name": "python",
      "nbconvert_exporter": "python",
      "pygments_lexer": "ipython3",
      "version": "3.6.10"
    },
    "colab": {
      "name": "tipos-datos.ipynb",
      "provenance": []
    }
  },
  "nbformat": 4,
  "nbformat_minor": 0
}