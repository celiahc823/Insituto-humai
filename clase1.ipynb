{
  "nbformat": 4,
  "nbformat_minor": 0,
  "metadata": {
    "colab": {
      "name": "clase1",
      "provenance": [],
      "include_colab_link": true
    },
    "kernelspec": {
      "name": "python3",
      "display_name": "Python 3"
    },
    "language_info": {
      "name": "python"
    }
  },
  "cells": [
    {
      "cell_type": "markdown",
      "metadata": {
        "id": "view-in-github",
        "colab_type": "text"
      },
      "source": [
        "<a href=\"https://colab.research.google.com/github/celiahc823/Insituto-humai/blob/main/clase1.ipynb\" target=\"_parent\"><img src=\"https://colab.research.google.com/assets/colab-badge.svg\" alt=\"Open In Colab\"/></a>"
      ]
    },
    {
      "cell_type": "markdown",
      "source": [
        "# Clase 1\n",
        "\n",
        "Repositorio de GitHub: [https://github.com/institutohumai/cursos-python](https://github.com/institutohumai/cursos-python)\n"
      ],
      "metadata": {
        "id": "2TlyqjvvOxxO"
      }
    },
    {
      "cell_type": "markdown",
      "source": [
        "## Pseudocódigo (Lenguaje Natural)\n",
        "\n",
        "**Ejercicio**: Preparar una hamburguesa de manera lógica con pseudocódigo\n",
        "\n",
        "\n",
        "```\n",
        "Voy a la cocina\n",
        "Preparo en la mesa los ingredientes:\n",
        "    1 Pan de hamburguesa\n",
        "    1 mayonesa\n",
        "    2 hojas de lechuga\n",
        "    2 rodajas de tomate\n",
        "    1 rodaja de quedo cheddar\n",
        "    1 paty\n",
        "    1 rodaja de paleta\n",
        "    1 ketchup\n",
        "Fin preparación\n",
        "De los ingredientes preparados, armar hamburguesa:\n",
        "    Junto ingrediente con el siguiente ingrediente\n",
        "Fin preparación\n",
        "Comer hamburguesa\n",
        "```"
      ],
      "metadata": {
        "id": "UP8ggRM-Zx14"
      }
    },
    {
      "cell_type": "markdown",
      "source": [
        "## Lenguaje Python\n",
        "\n",
        "**Ejercicio**: Del ejercicio anterior, crear la misma lógica de la preparación de la hamburguesa en lenguaje Python"
      ],
      "metadata": {
        "id": "-lBRbJJNcRrs"
      }
    },
    {
      "cell_type": "code",
      "source": [
        "def preparar_ingredientes(*ingredientes):\n",
        "    ingredientes_prep = []\n",
        "    for ingrediente in ingredientes:\n",
        "        if ingrediente == \"pan\":\n",
        "            ingredientes_prep.append(\"mitad de pan\")\n",
        "            ingredientes_prep.append(\"mitad de pan\")\n",
        "        elif ingrediente == \"lechuga\":\n",
        "            ingredientes_prep.append(\"hoja de lechuga\")\n",
        "            ingredientes_prep.append(\"hoja de lechuga\")\n",
        "        elif ingrediente == \"tomate\":\n",
        "            ingredientes_prep.append(\"rodaja de tomate\")\n",
        "            ingredientes_prep.append(\"rodaja de tomate\")\n",
        "        else:\n",
        "            ingredientes_prep.append(ingrediente)\n",
        "    return ingredientes_prep\n",
        "\n",
        "def hacer_hamburguesa(ingredientes):\n",
        "    hamburguesa = \"\"\n",
        "    for ingrediente in ingredientes:\n",
        "        hamburguesa += ingrediente + \"\\n\"\n",
        "    return hamburguesa\n",
        "\n",
        "\n",
        "ingredientes = preparar_ingredientes(\"pan\", \"lechuga\", \"tomate\", \"paty\", \"rodaja de paleta\", \"rodaja de queso chedda\", \"ketchup\", \"mayonesa\")\n",
        "hamburguesa = hacer_hamburguesa(ingredientes)\n",
        "\n",
        "print(\"Hamburguesa desordenada 🍔\")\n",
        "print(30 * \"-\")\n",
        "print(hamburguesa)"
      ],
      "metadata": {
        "colab": {
          "base_uri": "https://localhost:8080/"
        },
        "id": "nLVbSqM5ZwR6",
        "outputId": "062db5a1-ec85-4915-fb8d-341733dd52d8"
      },
      "execution_count": null,
      "outputs": [
        {
          "output_type": "stream",
          "name": "stdout",
          "text": [
            "Hamburguesa desordenada 🍔\n",
            "------------------------------\n",
            "mitad de pan\n",
            "mitad de pan\n",
            "hoja de lechuga\n",
            "hoja de lechuga\n",
            "rodaja de tomate\n",
            "rodaja de tomate\n",
            "paty\n",
            "rodaja de paleta\n",
            "rodaja de queso chedda\n",
            "ketchup\n",
            "mayonesa\n",
            "\n"
          ]
        }
      ]
    }
  ]
}